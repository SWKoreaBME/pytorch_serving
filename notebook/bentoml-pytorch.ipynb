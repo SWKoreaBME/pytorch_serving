{
 "cells": [
  {
   "cell_type": "code",
   "execution_count": 6,
   "id": "032b53d5-6910-468c-a231-e52257958b51",
   "metadata": {},
   "outputs": [
    {
     "name": "stdout",
     "output_type": "stream",
     "text": [
      "[2021-04-28 11:06:16,847] WARNING - BentoML by default does not include spacy and torchvision package when using PytorchModelArtifact. To make sure BentoML bundle those packages if they are required for your model, either import those packages in BentoService definition file or manually add them via `@env(pip_packages=['torchvision'])` when defining a BentoService\n"
     ]
    },
    {
     "ename": "BentoMLException",
     "evalue": "Custom BentoModel class can not be defined in Python interactive REPL, try writing the class definition to a file and import it.",
     "output_type": "error",
     "traceback": [
      "\u001b[0;31m---------------------------------------------------------------------------\u001b[0m",
      "\u001b[0;31mBentoMLException\u001b[0m                          Traceback (most recent call last)",
      "\u001b[0;32m<ipython-input-6-82ab633cb6c6>\u001b[0m in \u001b[0;36m<module>\u001b[0;34m\u001b[0m\n\u001b[1;32m     28\u001b[0m \u001b[0;34m\u001b[0m\u001b[0m\n\u001b[1;32m     29\u001b[0m \u001b[0;31m# Save BentoService\u001b[0m\u001b[0;34m\u001b[0m\u001b[0;34m\u001b[0m\u001b[0m\n\u001b[0;32m---> 30\u001b[0;31m \u001b[0msaved_path\u001b[0m \u001b[0;34m=\u001b[0m \u001b[0msvc\u001b[0m\u001b[0;34m.\u001b[0m\u001b[0msave\u001b[0m\u001b[0;34m(\u001b[0m\u001b[0;34m)\u001b[0m\u001b[0;34m\u001b[0m\u001b[0m\n\u001b[0m\u001b[1;32m     31\u001b[0m \u001b[0mprint\u001b[0m\u001b[0;34m(\u001b[0m\u001b[0msaved_path\u001b[0m\u001b[0;34m)\u001b[0m\u001b[0;34m\u001b[0m\u001b[0m\n",
      "\u001b[0;32m~/swk/anaconda3/envs/torch_ver_18/lib/python3.7/site-packages/bentoml/service/__init__.py\u001b[0m in \u001b[0;36msave\u001b[0;34m(self, yatai_url, version, labels)\u001b[0m\n\u001b[1;32m    736\u001b[0m         \u001b[0myc\u001b[0m \u001b[0;34m=\u001b[0m \u001b[0mget_yatai_client\u001b[0m\u001b[0;34m(\u001b[0m\u001b[0myatai_url\u001b[0m\u001b[0;34m)\u001b[0m\u001b[0;34m\u001b[0m\u001b[0m\n\u001b[1;32m    737\u001b[0m \u001b[0;34m\u001b[0m\u001b[0m\n\u001b[0;32m--> 738\u001b[0;31m         \u001b[0;32mreturn\u001b[0m \u001b[0myc\u001b[0m\u001b[0;34m.\u001b[0m\u001b[0mrepository\u001b[0m\u001b[0;34m.\u001b[0m\u001b[0mupload\u001b[0m\u001b[0;34m(\u001b[0m\u001b[0mself\u001b[0m\u001b[0;34m,\u001b[0m \u001b[0mversion\u001b[0m\u001b[0;34m,\u001b[0m \u001b[0mlabels\u001b[0m\u001b[0;34m)\u001b[0m\u001b[0;34m\u001b[0m\u001b[0m\n\u001b[0m\u001b[1;32m    739\u001b[0m \u001b[0;34m\u001b[0m\u001b[0m\n\u001b[1;32m    740\u001b[0m     \u001b[0;32mdef\u001b[0m \u001b[0msave_to_dir\u001b[0m\u001b[0;34m(\u001b[0m\u001b[0mself\u001b[0m\u001b[0;34m,\u001b[0m \u001b[0mpath\u001b[0m\u001b[0;34m,\u001b[0m \u001b[0mversion\u001b[0m\u001b[0;34m=\u001b[0m\u001b[0;32mNone\u001b[0m\u001b[0;34m)\u001b[0m\u001b[0;34m:\u001b[0m\u001b[0;34m\u001b[0m\u001b[0m\n",
      "\u001b[0;32m~/swk/anaconda3/envs/torch_ver_18/lib/python3.7/site-packages/bentoml/yatai/client/bento_repository_api.py\u001b[0m in \u001b[0;36mupload\u001b[0;34m(self, bento_service, version, labels)\u001b[0m\n\u001b[1;32m    141\u001b[0m         \"\"\"\n\u001b[1;32m    142\u001b[0m         \u001b[0;32mwith\u001b[0m \u001b[0mTempDirectory\u001b[0m\u001b[0;34m(\u001b[0m\u001b[0;34m)\u001b[0m \u001b[0;32mas\u001b[0m \u001b[0mtmpdir\u001b[0m\u001b[0;34m:\u001b[0m\u001b[0;34m\u001b[0m\u001b[0m\n\u001b[0;32m--> 143\u001b[0;31m             \u001b[0msave_to_dir\u001b[0m\u001b[0;34m(\u001b[0m\u001b[0mbento_service\u001b[0m\u001b[0;34m,\u001b[0m \u001b[0mtmpdir\u001b[0m\u001b[0;34m,\u001b[0m \u001b[0mversion\u001b[0m\u001b[0;34m,\u001b[0m \u001b[0msilent\u001b[0m\u001b[0;34m=\u001b[0m\u001b[0;32mTrue\u001b[0m\u001b[0;34m)\u001b[0m\u001b[0;34m\u001b[0m\u001b[0m\n\u001b[0m\u001b[1;32m    144\u001b[0m             \u001b[0;32mreturn\u001b[0m \u001b[0mself\u001b[0m\u001b[0;34m.\u001b[0m\u001b[0mupload_from_dir\u001b[0m\u001b[0;34m(\u001b[0m\u001b[0mtmpdir\u001b[0m\u001b[0;34m,\u001b[0m \u001b[0mlabels\u001b[0m\u001b[0;34m)\u001b[0m\u001b[0;34m\u001b[0m\u001b[0m\n\u001b[1;32m    145\u001b[0m \u001b[0;34m\u001b[0m\u001b[0m\n",
      "\u001b[0;32m~/swk/anaconda3/envs/torch_ver_18/lib/python3.7/site-packages/bentoml/saved_bundle/bundler.py\u001b[0m in \u001b[0;36msave_to_dir\u001b[0;34m(bento_service, path, version, silent)\u001b[0m\n\u001b[1;32m    226\u001b[0m             \u001b[0m_upload_file_to_remote_path\u001b[0m\u001b[0;34m(\u001b[0m\u001b[0mpath\u001b[0m\u001b[0;34m,\u001b[0m \u001b[0mtarfile_path\u001b[0m\u001b[0;34m,\u001b[0m \u001b[0mfile_name\u001b[0m\u001b[0;34m)\u001b[0m\u001b[0;34m\u001b[0m\u001b[0m\n\u001b[1;32m    227\u001b[0m     \u001b[0;32melse\u001b[0m\u001b[0;34m:\u001b[0m\u001b[0;34m\u001b[0m\u001b[0m\n\u001b[0;32m--> 228\u001b[0;31m         \u001b[0m_write_bento_content_to_dir\u001b[0m\u001b[0;34m(\u001b[0m\u001b[0mbento_service\u001b[0m\u001b[0;34m,\u001b[0m \u001b[0mpath\u001b[0m\u001b[0;34m)\u001b[0m\u001b[0;34m\u001b[0m\u001b[0m\n\u001b[0m\u001b[1;32m    229\u001b[0m \u001b[0;34m\u001b[0m\u001b[0m\n\u001b[1;32m    230\u001b[0m     copy_zip_import_archives(\n",
      "\u001b[0;32m~/swk/anaconda3/envs/torch_ver_18/lib/python3.7/site-packages/bentoml/saved_bundle/bundler.py\u001b[0m in \u001b[0;36m_write_bento_content_to_dir\u001b[0;34m(bento_service, path)\u001b[0m\n\u001b[1;32m     98\u001b[0m     \u001b[0;31m# class definition to saved bundle directory\u001b[0m\u001b[0;34m\u001b[0m\u001b[0;34m\u001b[0m\u001b[0m\n\u001b[1;32m     99\u001b[0m     module_name, module_file = copy_local_py_modules(\n\u001b[0;32m--> 100\u001b[0;31m         \u001b[0mbento_service\u001b[0m\u001b[0;34m.\u001b[0m\u001b[0m__class__\u001b[0m\u001b[0;34m.\u001b[0m\u001b[0m__module__\u001b[0m\u001b[0;34m,\u001b[0m \u001b[0mos\u001b[0m\u001b[0;34m.\u001b[0m\u001b[0mpath\u001b[0m\u001b[0;34m.\u001b[0m\u001b[0mjoin\u001b[0m\u001b[0;34m(\u001b[0m\u001b[0mpath\u001b[0m\u001b[0;34m,\u001b[0m \u001b[0mbento_service\u001b[0m\u001b[0;34m.\u001b[0m\u001b[0mname\u001b[0m\u001b[0;34m)\u001b[0m\u001b[0;34m\u001b[0m\u001b[0m\n\u001b[0m\u001b[1;32m    101\u001b[0m     )\n\u001b[1;32m    102\u001b[0m \u001b[0;34m\u001b[0m\u001b[0m\n",
      "\u001b[0;32m~/swk/anaconda3/envs/torch_ver_18/lib/python3.7/site-packages/bentoml/saved_bundle/local_py_modules.py\u001b[0m in \u001b[0;36mcopy_local_py_modules\u001b[0;34m(target_module, destination)\u001b[0m\n\u001b[1;32m     89\u001b[0m     \u001b[0;32mif\u001b[0m \u001b[0mtarget_module\u001b[0m\u001b[0;34m.\u001b[0m\u001b[0m__name__\u001b[0m \u001b[0;34m==\u001b[0m \u001b[0;34m\"__main__\"\u001b[0m \u001b[0;32mand\u001b[0m \u001b[0;32mnot\u001b[0m \u001b[0mhasattr\u001b[0m\u001b[0;34m(\u001b[0m\u001b[0mtarget_module\u001b[0m\u001b[0;34m,\u001b[0m \u001b[0;34m\"__file__\"\u001b[0m\u001b[0;34m)\u001b[0m\u001b[0;34m:\u001b[0m\u001b[0;34m\u001b[0m\u001b[0m\n\u001b[1;32m     90\u001b[0m         raise BentoMLException(\n\u001b[0;32m---> 91\u001b[0;31m             \u001b[0;34m\"Custom BentoModel class can not be defined in Python interactive REPL, try\"\u001b[0m\u001b[0;34m\u001b[0m\u001b[0m\n\u001b[0m\u001b[1;32m     92\u001b[0m             \u001b[0;34m\" writing the class definition to a file and import it.\"\u001b[0m\u001b[0;34m\u001b[0m\u001b[0m\n\u001b[1;32m     93\u001b[0m         )\n",
      "\u001b[0;31mBentoMLException\u001b[0m: Custom BentoModel class can not be defined in Python interactive REPL, try writing the class definition to a file and import it."
     ]
    }
   ],
   "source": [
    "import torch.nn as nn\n",
    "import imageio\n",
    "\n",
    "import bentoml\n",
    "from bentoml.adapters import ImageInput, JsonOutput\n",
    "from bentoml.frameworks.pytorch import PytorchModelArtifact\n",
    "\n",
    "from torchvision.models import resnet18\n",
    "\n",
    "# load sample model\n",
    "model = resnet18(pretrained=True)\n",
    "\n",
    "# wrap with custom predicition API module\n",
    "@bentoml.env(infer_pip_packages=True)\n",
    "@bentoml.artifacts([PytorchModelArtifact('model')])\n",
    "class PytorchModelService(bentoml.BentoService):\n",
    "    \n",
    "    @bentoml.api(input=ImageInput(), batch=True)\n",
    "    def predict(self, imgs):\n",
    "        outputs = self.artifacts.model(imgs)\n",
    "        return outputs\n",
    "    \n",
    "# model serving process\n",
    "svc = PytorchModelService()\n",
    "\n",
    "# Pytorch model packing (direct version)\n",
    "svc.pack('model', model)\n",
    "\n",
    "# Save BentoService\n",
    "saved_path = svc.save()\n",
    "print(saved_path)"
   ]
  },
  {
   "cell_type": "markdown",
   "id": "8f431b3e-e2ec-4077-9404-dd9a8a45b4d2",
   "metadata": {},
   "source": [
    "### REST API Model Serving"
   ]
  },
  {
   "cell_type": "code",
   "execution_count": 6,
   "id": "40fe7408-77a4-4c18-9d7b-c5cac876da3a",
   "metadata": {},
   "outputs": [
    {
     "name": "stdout",
     "output_type": "stream",
     "text": [
      "Error: \u001b[31mbentoml-cli serve failed: BentoService PytorchModelService:latest not found - NOT_FOUND:BentoService `PytorchModelService:latest` is not found\u001b[0m\n"
     ]
    }
   ],
   "source": [
    "!bentoml serve PytorchModelService:latest"
   ]
  },
  {
   "cell_type": "code",
   "execution_count": 5,
   "id": "63884997-3a53-4da0-a331-bc6c3a1b240a",
   "metadata": {},
   "outputs": [
    {
     "data": {
      "text/plain": [
       "{'_bento_service_version': None,\n",
       " '_dev_server_bundle_path': None,\n",
       " '_dev_server_interrupt_event': None,\n",
       " '_dev_server_process': None,\n",
       " '_artifacts': {'model': <bentoml.frameworks.pytorch.PytorchModelArtifact at 0x7fbce0d8c160>},\n",
       " '_inference_apis': [<bentoml.service.inference_api.InferenceAPI at 0x7fbce0d8c2b0>],\n",
       " '_env': <bentoml.service.env.BentoServiceEnv at 0x7fbce0f60780>}"
      ]
     },
     "execution_count": 5,
     "metadata": {},
     "output_type": "execute_result"
    }
   ],
   "source": [
    "svc.__dict__"
   ]
  },
  {
   "cell_type": "code",
   "execution_count": null,
   "id": "1883bf96-184b-4557-8cc8-879ab0406677",
   "metadata": {},
   "outputs": [],
   "source": []
  }
 ],
 "metadata": {
  "kernelspec": {
   "display_name": "Python 3",
   "language": "python",
   "name": "python3"
  },
  "language_info": {
   "codemirror_mode": {
    "name": "ipython",
    "version": 3
   },
   "file_extension": ".py",
   "mimetype": "text/x-python",
   "name": "python",
   "nbconvert_exporter": "python",
   "pygments_lexer": "ipython3",
   "version": "3.7.0"
  }
 },
 "nbformat": 4,
 "nbformat_minor": 5
}
